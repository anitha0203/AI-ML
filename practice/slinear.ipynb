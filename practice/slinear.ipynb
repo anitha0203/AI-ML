{
 "cells": [
  {
   "cell_type": "code",
   "execution_count": 1,
   "id": "95baca43-2611-4ce1-b991-3be62ef419ec",
   "metadata": {},
   "outputs": [],
   "source": [
    "import pandas as pd\n",
    "import numpy as np\n",
    "import matplotlib.pyplot as plt"
   ]
  },
  {
   "cell_type": "code",
   "execution_count": 44,
   "id": "9a91ebf1-d1ec-4d14-ade8-f7340d21598c",
   "metadata": {},
   "outputs": [
    {
     "name": "stdout",
     "output_type": "stream",
     "text": [
      "   YearsExperience   Salary\n",
      "0              1.1    39843\n",
      "1              2.0    42332\n",
      "2              2.1    41000\n",
      "3              3.5    45843\n",
      "4              3.6    46843\n",
      "5              4.1    48843\n",
      "6              4.2    46843\n",
      "7              5.1    51843\n",
      "8              6.1    55843\n"
     ]
    }
   ],
   "source": [
    "data = pd.read_csv(\"employees.csv\")\n",
    "print(data)"
   ]
  },
  {
   "cell_type": "code",
   "execution_count": 45,
   "id": "1643baad-acf9-4118-9635-44a370a5b5b9",
   "metadata": {},
   "outputs": [],
   "source": [
    "x = data[\"YearsExperience\"].values\n",
    "y = data[\" Salary\"].values"
   ]
  },
  {
   "cell_type": "code",
   "execution_count": 50,
   "id": "83477c41-ef60-4407-b13c-b91fd4a9e72a",
   "metadata": {},
   "outputs": [],
   "source": [
    "x_mean = np.mean(x)\n",
    "y_mean = np.mean(y)\n",
    "\n",
    "num=0\n",
    "den=0\n",
    "for i in range(len(x)):\n",
    "    num+=(x[i]-x_mean) + (y[i]-y_mean)\n",
    "    den+=(x[i]-x_mean)**2\n",
    "b1=num/den\n",
    "b0=y_mean-(b1*x_mean)\n"
   ]
  },
  {
   "cell_type": "code",
   "execution_count": 51,
   "id": "d4875bd5-5816-4082-833e-3fa4bf993fd8",
   "metadata": {},
   "outputs": [
    {
     "name": "stdout",
     "output_type": "stream",
     "text": [
      "[46581.44444444 46581.44444444 46581.44444444 46581.44444444\n",
      " 46581.44444444 46581.44444444 46581.44444444 46581.44444444\n",
      " 46581.44444444]\n",
      "x: [1.1 2.  2.1 3.5 3.6 4.1 4.2 5.1 6.1]\n",
      "y: [39843 42332 41000 45843 46843 48843 46843 51843 55843]\n",
      "b0: 46581.444444444445\n",
      "b1: -4.515862471563695e-13\n"
     ]
    }
   ],
   "source": [
    "y_pred = b0+b1*x\n",
    "print(y_pred)\n",
    "print(\"x:\", x)\n",
    "print(\"y:\", y)\n",
    "print(\"b0:\", b0)\n",
    "print(\"b1:\", b1)\n"
   ]
  },
  {
   "cell_type": "code",
   "execution_count": 1,
   "id": "36c785cd-3014-492d-b9ce-6622af3b2f74",
   "metadata": {},
   "outputs": [
    {
     "ename": "NameError",
     "evalue": "name 'plt' is not defined",
     "output_type": "error",
     "traceback": [
      "\u001b[1;31m---------------------------------------------------------------------------\u001b[0m",
      "\u001b[1;31mNameError\u001b[0m                                 Traceback (most recent call last)",
      "Cell \u001b[1;32mIn[1], line 1\u001b[0m\n\u001b[1;32m----> 1\u001b[0m \u001b[43mplt\u001b[49m\u001b[38;5;241m.\u001b[39mscatter(x, y, color\u001b[38;5;241m=\u001b[39m\u001b[38;5;124m\"\u001b[39m\u001b[38;5;124mred\u001b[39m\u001b[38;5;124m\"\u001b[39m)\n\u001b[0;32m      2\u001b[0m plt\u001b[38;5;241m.\u001b[39mplot(x, y_pred, color\u001b[38;5;241m=\u001b[39m \u001b[38;5;124m\"\u001b[39m\u001b[38;5;124mblue\u001b[39m\u001b[38;5;124m\"\u001b[39m)\n\u001b[0;32m      3\u001b[0m plt\u001b[38;5;241m.\u001b[39mxlabel(\u001b[38;5;124m'\u001b[39m\u001b[38;5;124mExperience\u001b[39m\u001b[38;5;124m'\u001b[39m)\n",
      "\u001b[1;31mNameError\u001b[0m: name 'plt' is not defined"
     ]
    }
   ],
   "source": [
    "plt.scatter(x, y, color=\"red\")\n",
    "plt.plot(x, y_pred, color= \"blue\")\n",
    "plt.xlabel('Experience')\n",
    "plt.ylabel('Years')\n",
    "plt.show()"
   ]
  },
  {
   "cell_type": "code",
   "execution_count": null,
   "id": "151eb1a1-09fd-455c-bf2e-0a6ccb5ba2db",
   "metadata": {},
   "outputs": [],
   "source": []
  }
 ],
 "metadata": {
  "kernelspec": {
   "display_name": "Python 3 (ipykernel)",
   "language": "python",
   "name": "python3"
  },
  "language_info": {
   "codemirror_mode": {
    "name": "ipython",
    "version": 3
   },
   "file_extension": ".py",
   "mimetype": "text/x-python",
   "name": "python",
   "nbconvert_exporter": "python",
   "pygments_lexer": "ipython3",
   "version": "3.11.2"
  }
 },
 "nbformat": 4,
 "nbformat_minor": 5
}
