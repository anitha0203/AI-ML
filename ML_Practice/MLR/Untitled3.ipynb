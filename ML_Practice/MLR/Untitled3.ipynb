{
 "cells": [
  {
   "cell_type": "code",
   "execution_count": 2,
   "id": "7a7de197-11c0-4ff9-87d5-0d742fa08088",
   "metadata": {},
   "outputs": [],
   "source": [
    "import numpy as np\n",
    "import pandas as pd\n",
    "import matplotlib.pyplot as plt"
   ]
  },
  {
   "cell_type": "code",
   "execution_count": 3,
   "id": "58992ccf-a66e-453d-a563-4412a5bc63c7",
   "metadata": {},
   "outputs": [
    {
     "name": "stdout",
     "output_type": "stream",
     "text": [
      "   size  bedroom   price\n",
      "0  2104        3  399900\n",
      "1  1600        3  329900\n",
      "2  2400        3  369000\n",
      "3  1416        2  232000\n",
      "4  3000        4  539900\n"
     ]
    }
   ],
   "source": [
    "data = pd.read_csv(\"../dataFiles/houseprices.csv\")\n",
    "print(data)\n"
   ]
  },
  {
   "cell_type": "code",
   "execution_count": 4,
   "id": "72dc6e37-7e17-49a7-9856-733e4aaa8487",
   "metadata": {},
   "outputs": [
    {
     "name": "stdout",
     "output_type": "stream",
     "text": [
      "[[ 0.          0.        ]\n",
      " [-0.88604177  0.        ]\n",
      " [ 0.52037374  0.        ]\n",
      " [-1.20951734 -1.58113883]\n",
      " [ 1.57518537  1.58113883]]\n"
     ]
    }
   ],
   "source": [
    "# Extract the features and target variable\n",
    "X = data[['size', 'bedroom']].values\n",
    "y = data['price'].values\n",
    "\n",
    "# Feature scaling\n",
    "X_mean = np.mean(X, axis=0)\n",
    "X_std = np.std(X, axis=0) \n",
    "X = (X - X_mean) / X_std\n",
    "\n",
    "print(X)"
   ]
  },
  {
   "cell_type": "code",
   "execution_count": 5,
   "id": "3f8d1bc0-d749-499f-aa25-acbd86a6c67f",
   "metadata": {},
   "outputs": [],
   "source": [
    "# Initialize parameters\n",
    "w = np.zeros(X.shape[1])  # Weights\n",
    "b = 0  # Bias\n",
    "learning_rate = 0.01\n",
    "num_epochs = 1000"
   ]
  },
  {
   "cell_type": "code",
   "execution_count": 6,
   "id": "05568877-ba90-482a-8323-944da1d744f8",
   "metadata": {},
   "outputs": [
    {
     "name": "stdout",
     "output_type": "stream",
     "text": [
      "1.0302689180694464e+21\n"
     ]
    }
   ],
   "source": [
    "# Define the RMSE function\n",
    "def rmse(y_true, y_pred):\n",
    "    return np.sqrt(np.mean((y_true - y_pred) ** 2))\n",
    "\n",
    "rmse_history = []  # Initialize RMSE history\n",
    "\n",
    "for epoch in range(num_epochs):\n",
    "    # Calculate and store RMSE\n",
    "    predictions = X.dot(w) + b\n",
    "    rmse_value = rmse(y, predictions)\n",
    "    rmse_history.append(rmse_value)\n",
    "\n",
    "    # Calculate gradients\n",
    "    error = predictions - y\n",
    "    grad_w = (-2 / len(X)) * np.dot(X.T, error)\n",
    "    grad_b = (-2 / len(X)) * np.sum(error)\n",
    "\n",
    "    # Update parameters\n",
    "    w -= learning_rate * grad_w\n",
    "    b -= learning_rate * grad_b\n",
    "\n",
    "print(rmse_value)"
   ]
  },
  {
   "cell_type": "code",
   "execution_count": 7,
   "id": "c0aefaac-4182-439b-ac88-00a86f87c945",
   "metadata": {},
   "outputs": [
    {
     "data": {
      "image/png": "[encoded data removed]",
      "text/plain": [
       "<Figure size 640x480 with 1 Axes>"
      ]
     },
     "metadata": {},
     "output_type": "display_data"
    }
   ],
   "source": [
    "# Plot the RMSE history\n",
    "plt.plot(range(num_epochs), rmse_history)\n",
    "plt.xlabel('Epoch')\n",
    "plt.ylabel('RMSE')\n",
    "plt.title('RMSE vs. Epoch')                                 \n",
    "plt.show()"
   ]
  },
  {
   "cell_type": "code",
   "execution_count": null,
   "id": "321cdd71-586d-474c-a561-b28cc7de117f",
   "metadata": {},
   "outputs": [],
   "source": []
  }
 ],
 "metadata": {
  "kernelspec": {
   "display_name": "Python 3 (ipykernel)",
   "language": "python",
   "name": "python3"
  },
  "language_info": {
   "codemirror_mode": {
    "name": "ipython",
    "version": 3
   },
   "file_extension": ".py",
   "mimetype": "text/x-python",
   "name": "python",
   "nbconvert_exporter": "python",
   "pygments_lexer": "ipython3",
   "version": "3.11.2"
  }
 },
 "nbformat": 4,
 "nbformat_minor": 5
}
