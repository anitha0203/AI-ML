{
 "cells": [
  {
   "cell_type": "code",
   "execution_count": 10,
   "id": "cccada8c-7385-48a2-8615-2e64a3e490d2",
   "metadata": {},
   "outputs": [],
   "source": [
    "import numpy as np\n",
    "import matplotlib.pyplot as plt\n",
    "import pandas as pd"
   ]
  },
  {
   "cell_type": "code",
   "execution_count": 12,
   "id": "67eab05b-868a-4ba6-a124-a853a607b864",
   "metadata": {},
   "outputs": [
    {
     "name": "stdout",
     "output_type": "stream",
     "text": [
      "   size  bedroom   price\n",
      "0  2104        3  399900\n",
      "1  1600        3  329900\n",
      "2  2400        3  369000\n",
      "3  1416        2  232000\n",
      "4  3000        4  539900\n"
     ]
    }
   ],
   "source": [
    "data = pd.read_csv('../dataFiles/housePrices.csv')\n",
    "print(data)"
   ]
  },
  {
   "cell_type": "code",
   "execution_count": 13,
   "id": "9aa9d8d8-b84b-42f5-ba5e-6a89bcfbe671",
   "metadata": {},
   "outputs": [
    {
     "data": {
      "text/html": [
       "<div>\n",
       "<style scoped>\n",
       "    .dataframe tbody tr th:only-of-type {\n",
       "        vertical-align: middle;\n",
       "    }\n",
       "\n",
       "    .dataframe tbody tr th {\n",
       "        vertical-align: top;\n",
       "    }\n",
       "\n",
       "    .dataframe thead th {\n",
       "        text-align: right;\n",
       "    }\n",
       "</style>\n",
       "<table border=\"1\" class=\"dataframe\">\n",
       "  <thead>\n",
       "    <tr style=\"text-align: right;\">\n",
       "      <th></th>\n",
       "      <th>size</th>\n",
       "      <th>bedroom</th>\n",
       "      <th>price</th>\n",
       "    </tr>\n",
       "  </thead>\n",
       "  <tbody>\n",
       "    <tr>\n",
       "      <th>0</th>\n",
       "      <td>0.000000</td>\n",
       "      <td>0.000000</td>\n",
       "      <td>0.229654</td>\n",
       "    </tr>\n",
       "    <tr>\n",
       "      <th>1</th>\n",
       "      <td>-0.792500</td>\n",
       "      <td>0.000000</td>\n",
       "      <td>-0.394406</td>\n",
       "    </tr>\n",
       "    <tr>\n",
       "      <th>2</th>\n",
       "      <td>0.465436</td>\n",
       "      <td>0.000000</td>\n",
       "      <td>-0.045824</td>\n",
       "    </tr>\n",
       "    <tr>\n",
       "      <th>3</th>\n",
       "      <td>-1.081825</td>\n",
       "      <td>-1.414214</td>\n",
       "      <td>-1.267198</td>\n",
       "    </tr>\n",
       "    <tr>\n",
       "      <th>4</th>\n",
       "      <td>1.408889</td>\n",
       "      <td>1.414214</td>\n",
       "      <td>1.477773</td>\n",
       "    </tr>\n",
       "  </tbody>\n",
       "</table>\n",
       "</div>"
      ],
      "text/plain": [
       "       size   bedroom     price\n",
       "0  0.000000  0.000000  0.229654\n",
       "1 -0.792500  0.000000 -0.394406\n",
       "2  0.465436  0.000000 -0.045824\n",
       "3 -1.081825 -1.414214 -1.267198\n",
       "4  1.408889  1.414214  1.477773"
      ]
     },
     "execution_count": 13,
     "metadata": {},
     "output_type": "execute_result"
    }
   ],
   "source": [
    "my_data = (data - data.mean())/data.std()\n",
    "my_data.head()"
   ]
  },
  {
   "cell_type": "code",
   "execution_count": 19,
   "id": "5e299d92-f26f-4385-a61f-f4d2bd6f51c4",
   "metadata": {},
   "outputs": [
    {
     "name": "stdout",
     "output_type": "stream",
     "text": [
      "       size   bedroom\n",
      "0  0.000000  0.000000\n",
      "1 -0.792500  0.000000\n",
      "2  0.465436  0.000000\n",
      "3 -1.081825 -1.414214\n",
      "4  1.408889  1.414214\n",
      "[[ 1.          0.          0.        ]\n",
      " [ 1.         -0.79249985  0.        ]\n",
      " [ 1.          0.46543642  0.        ]\n",
      " [ 1.         -1.0818252  -1.41421356]\n",
      " [ 1.          1.40888863  1.41421356]]\n"
     ]
    }
   ],
   "source": [
    "X = my_data.iloc[:,0:2]\n",
    "print(X)\n",
    "\n",
    "\n",
    "X = np.concatenate((ones,X),axis=1)\n",
    "print(X)\n"
   ]
  },
  {
   "cell_type": "code",
   "execution_count": 20,
   "id": "c526c391-4f85-4d9b-a849-c39c02621c81",
   "metadata": {},
   "outputs": [
    {
     "name": "stdout",
     "output_type": "stream",
     "text": [
      "[[ 0.22965394]\n",
      " [-0.39440568]\n",
      " [-0.04582381]\n",
      " [-1.26719763]\n",
      " [ 1.47777318]]\n",
      "[[0. 0. 0.]]\n"
     ]
    }
   ],
   "source": [
    "\n",
    "y = my_data.iloc[:,2:3].values\n",
    "print(y)\n",
    "\n",
    "theta = np.zeros([1,3])\n",
    "print(theta)\n",
    "alpha = 0.01\n",
    "iters = 1000"
   ]
  },
  {
   "cell_type": "code",
   "execution_count": null,
   "id": "61329903-7fef-425a-aad1-e476b4b1bb36",
   "metadata": {},
   "outputs": [],
   "source": [
    "def mse(X,y,theta):\n",
    "    error"
   ]
  },
  {
   "cell_type": "code",
   "execution_count": null,
   "id": "c0ef628f-574d-4120-9be4-dddfb0df4ef9",
   "metadata": {},
   "outputs": [],
   "source": [
    "= ((X @ theta.T)-y) ** 2\n",
    "    return np.sum()/(2 * len(X))\n",
    "    \n",
    "finalCost = computeCost(X,y,g)\n",
    "print(finalCost)"
   ]
  },
  {
   "cell_type": "code",
   "execution_count": 21,
   "id": "34e153cb-6d3c-4530-9988-d6c877a51909",
   "metadata": {},
   "outputs": [
    {
     "name": "stdout",
     "output_type": "stream",
     "text": [
      "[[-1.32116540e-17  4.18087439e-01  5.95699942e-01]]\n"
     ]
    }
   ],
   "source": [
    "def gradientDescent(X,y,theta,iters,alpha):\n",
    "    cost = np.zeros(iters)\n",
    "    for i in range(iters):\n",
    "        theta = theta - (alpha/len(X)) * np.sum(X * (X @ theta.T - y), axis=0)\n",
    "        cost[i] = computeCost(X, y, theta)\n",
    "    \n",
    "    return theta,cost\n",
    "\n",
    "g,cost = gradientDescent(X,y,theta,iters,alpha)\n",
    "print(g)\n"
   ]
  },
  {
   "cell_type": "code",
   "execution_count": 23,
   "id": "bbb21a0f-ecf0-4beb-be2b-37a7bebd647a",
   "metadata": {},
   "outputs": [
    {
     "data": {
      "text/plain": [
       "Text(0.5, 1.0, 'Error vs. Training')"
      ]
     },
     "execution_count": 23,
     "metadata": {},
     "output_type": "execute_result"
    },
    {
     "data": {
      "image/png": "[encoded data removed]",
      "text/plain": [
       "<Figure size 640x480 with 1 Axes>"
      ]
     },
     "metadata": {},
     "output_type": "display_data"
    }
   ],
   "source": [
    "fig, ax = plt.subplots()  \n",
    "ax.plot(np.arange(iters), cost, 'r')  \n",
    "ax.set_xlabel('Iterations')  \n",
    "ax.set_ylabel('Cost')  \n",
    "ax.set_title('Error vs. Training')  "
   ]
  },
  {
   "cell_type": "code",
   "execution_count": null,
   "id": "36ef2db8-fc8f-41c9-94a0-9c1fd6a5da4a",
   "metadata": {},
   "outputs": [],
   "source": []
  },
  {
   "cell_type": "code",
   "execution_count": null,
   "id": "53155022-9490-4c0d-86f2-7e280e9c89ae",
   "metadata": {},
   "outputs": [],
   "source": []
  }
 ],
 "metadata": {
  "kernelspec": {
   "display_name": "Python 3 (ipykernel)",
   "language": "python",
   "name": "python3"
  },
  "language_info": {
   "codemirror_mode": {
    "name": "ipython",
    "version": 3
   },
   "file_extension": ".py",
   "mimetype": "text/x-python",
   "name": "python",
   "nbconvert_exporter": "python",
   "pygments_lexer": "ipython3",
   "version": "3.11.2"
  }
 },
 "nbformat": 4,
 "nbformat_minor": 5
}
