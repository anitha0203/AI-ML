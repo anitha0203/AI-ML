{
 "cells": [
  {
   "cell_type": "code",
   "execution_count": 1,
   "id": "ffda55d6-87b4-47d6-8bda-48d6de7d614d",
   "metadata": {},
   "outputs": [],
   "source": [
    "import numpy as np\n",
    "import pandas as pd\n",
    "import matplotlib.pyplot as plt"
   ]
  },
  {
   "cell_type": "code",
   "execution_count": 2,
   "id": "33244af8-888a-4447-9eac-0801726e9dc8",
   "metadata": {},
   "outputs": [
    {
     "name": "stdout",
     "output_type": "stream",
     "text": [
      "   size  bedroom   price\n",
      "0  2104        3  399900\n",
      "1  1600        3  329900\n",
      "2  2400        3  369000\n",
      "3  1416        2  232000\n",
      "4  3000        4  539900\n"
     ]
    }
   ],
   "source": [
    "data = pd.read_csv(\"../dataFiles/houseprices.csv\")\n",
    "print(data)"
   ]
  },
  {
   "cell_type": "code",
   "execution_count": 3,
   "id": "9053c38b-d07e-4796-9c83-6fdd7af7746d",
   "metadata": {},
   "outputs": [
    {
     "name": "stdout",
     "output_type": "stream",
     "text": [
      "[[ 0.          0.        ]\n",
      " [-0.88604177  0.        ]\n",
      " [ 0.52037374  0.        ]\n",
      " [-1.20951734 -1.58113883]\n",
      " [ 1.57518537  1.58113883]]\n"
     ]
    }
   ],
   "source": [
    "# Extract the features and target variable\n",
    "X = data[['size', 'bedroom']].values\n",
    "y = data['price'].values\n",
    "\n",
    "# Feature scaling\n",
    "X_mean = np.mean(X, axis=0)\n",
    "X_std = np.std(X, axis=0)\n",
    "X = (X - X_mean) / X_std\n",
    "\n",
    "print(X)"
   ]
  },
  {
   "cell_type": "code",
   "execution_count": 4,
   "id": "d20ccd37-2b0f-4850-a88f-4797e31d6b5d",
   "metadata": {},
   "outputs": [],
   "source": [
    "# Initialize parameters\n",
    "w = np.zeros(X.shape[1])  # Weights\n",
    "b = 0  # Bias\n",
    "learning_rate = 0.01\n",
    "num_epochs = 1000"
   ]
  },
  {
   "cell_type": "code",
   "execution_count": 5,
   "id": "db3bf420-7483-4e24-a94d-09731957160b",
   "metadata": {},
   "outputs": [
    {
     "name": "stdout",
     "output_type": "stream",
     "text": [
      "MSE = 5.307270217699939e+41\n"
     ]
    }
   ],
   "source": [
    "# Define the cost function\n",
    "def cost_function(X, y, w, b):\n",
    "    m = len(y)\n",
    "    predictions = X.dot(w) + b\n",
    "    cost = (1 / (2 * m)) * np.sum((predictions - y) ** 2)\n",
    "    return cost\n",
    "\n",
    "# Gradient Descent\n",
    "cost_history = []\n",
    "\n",
    "for epoch in range(num_epochs):\n",
    "    # Calculate and store cost\n",
    "    cost = cost_function(X, y, w, b)\n",
    "    cost_history.append(cost)\n",
    "    \n",
    "    predictions = X.dot(w) + b\n",
    "    error = predictions - y\n",
    "    \n",
    "    # Calculate gradients\n",
    "    grad_w = (-2 / len(X)) * np.dot(X.T, error)\n",
    "    grad_b = (-2 / len(X)) * np.sum(error)\n",
    "    \n",
    "    # Update parameters\n",
    "    w -= learning_rate * grad_w\n",
    "    b -= learning_rate * grad_b\n",
    "\n",
    " \n",
    "print(f'MSE = {cost}')\n",
    "    # if (epoch % 100 == 0):\n",
    "        # print(f'Epoch {epoch}: Cost = {cost}')"
   ]
  },
  {
   "cell_type": "code",
   "execution_count": 6,
   "id": "194e1c78-e340-45a0-842b-13c79c5d050a",
   "metadata": {},
   "outputs": [
    {
     "data": {
      "image/png": "[encoded data removed]",
      "text/plain": [
       "<Figure size 640x480 with 1 Axes>"
      ]
     },
     "metadata": {},
     "output_type": "display_data"
    }
   ],
   "source": [
    "# Plot the cost history\n",
    "plt.plot(range(num_epochs), cost_history)\n",
    "plt.xlabel('Epoch')\n",
    "plt.ylabel('Cost')\n",
    "plt.title('Cost vs. Epoch')\n",
    "plt.show()"
   ]
  },
  {
   "cell_type": "code",
   "execution_count": null,
   "id": "d0f24f50-f9c7-4217-a33e-7a04276c4d4c",
   "metadata": {},
   "outputs": [],
   "source": []
  },
  {
   "cell_type": "code",
   "execution_count": null,
   "id": "8f709a3e-9ae9-409f-8f45-effc2636262d",
   "metadata": {},
   "outputs": [],
   "source": []
  }
 ],
 "metadata": {
  "kernelspec": {
   "display_name": "Python 3 (ipykernel)",
   "language": "python",
   "name": "python3"
  },
  "language_info": {
   "codemirror_mode": {
    "name": "ipython",
    "version": 3
   },
   "file_extension": ".py",
   "mimetype": "text/x-python",
   "name": "python",
   "nbconvert_exporter": "python",
   "pygments_lexer": "ipython3",
   "version": "3.11.2"
  }
 },
 "nbformat": 4,
 "nbformat_minor": 5
}
