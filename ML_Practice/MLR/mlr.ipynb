{
 "cells": [
  {
   "cell_type": "code",
   "execution_count": 33,
   "id": "cccada8c-7385-48a2-8615-2e64a3e490d2",
   "metadata": {},
   "outputs": [],
   "source": [
    "import numpy as np\n",
    "import pandas as pd\n",
    "import matplotlib.pyplot as plt\n",
    "import seaborn as sns"
   ]
  },
  {
   "cell_type": "code",
   "execution_count": 34,
   "id": "67eab05b-868a-4ba6-a124-a853a607b864",
   "metadata": {},
   "outputs": [
    {
     "name": "stdout",
     "output_type": "stream",
     "text": [
      "   size  bedroom   price\n",
      "0  2104        3  399900\n",
      "1  1600        3  329900\n",
      "2  2400        3  369000\n",
      "3  1416        2  232000\n",
      "4  3000        4  539900\n"
     ]
    }
   ],
   "source": [
    "data = pd.read_csv('../dataFiles/housePrices.csv')\n",
    "print(data)"
   ]
  },
  {
   "cell_type": "code",
   "execution_count": 35,
   "id": "9aa9d8d8-b84b-42f5-ba5e-6a89bcfbe671",
   "metadata": {},
   "outputs": [
    {
     "name": "stdout",
     "output_type": "stream",
     "text": [
      "[[ 0.          0.        ]\n",
      " [-0.88604177  0.        ]\n",
      " [ 0.52037374  0.        ]\n",
      " [-1.20951734 -1.58113883]\n",
      " [ 1.57518537  1.58113883]]\n"
     ]
    }
   ],
   "source": [
    "# Extract the features and target variable\n",
    "X = data[['size', 'bedroom']].values\n",
    "Y = data['price'].values\n",
    "\n",
    "# Feature scaling\n",
    "X_mean = np.mean(X, axis=0)\n",
    "X_std = np.std(X, axis=0)\n",
    "X = (X - X_mean) / X_std\n",
    "\n",
    "print(X)"
   ]
  },
  {
   "cell_type": "code",
   "execution_count": 36,
   "id": "9b78d1e5-2420-492c-9f64-c1fa8fbd3460",
   "metadata": {},
   "outputs": [],
   "source": [
    "def predicted_y(weight,x,intercept):\n",
    "    y_lst=[]\n",
    "    for i in range(len(x)):\n",
    "        y_lst.append(weight@x[i]+intercept)\n",
    "    return np.array(y_lst)\n",
    "    \n",
    "# linear loss\n",
    "def loss(y,y_predicted):\n",
    "    n=len(y)\n",
    "    s=0\n",
    "    for i in range(n):\n",
    "        s+=(y[i]-y_predicted[i])**2\n",
    "    return (1/n)*s\n",
    "\n",
    "#derivative of loss w.r.t weight\n",
    "def dldw(x,y,y_predicted):\n",
    "    s=0\n",
    "    n=len(y)\n",
    "    for i in range(n):\n",
    "        s+=-x[i]*(y[i]-y_predicted[i])\n",
    "    return (2/n)*s\n",
    "\n",
    "# derivative of loss w.r.t bias\n",
    "def dldb(y,y_predicted):\n",
    "    n=len(y)\n",
    "    s=0\n",
    "    for i in range(len(y)):\n",
    "        s+=-(y[i]-y_predicted[i])\n",
    "    return (2/n) * s\n",
    "   \n",
    "# gradient function\n",
    "def gradient_descent(x,y):\n",
    "    weight_vector=np.random.randn(x.shape[1])\n",
    "    intercept=0\n",
    "    epoch = 2000\n",
    "    n = len(x)\n",
    "    linear_loss=[]\n",
    "    learning_rate = 0.001\n",
    "\n",
    "    for i in range(epoch):\n",
    "        y_predicted = predicted_y(weight_vector,x,intercept)\n",
    "        \n",
    "        weight_vector = weight_vector - learning_rate *dldw(x,y,y_predicted) \n",
    "        \n",
    "        intercept = intercept - learning_rate * dldb(y,y_predicted)\n",
    "        linear_loss.append(loss(y,y_predicted))\n",
    "        \n",
    "    plt.plot(np.arange(1,epoch),linear_loss[1:])\n",
    "    plt.xlabel(\"number of epoch\")\n",
    "    plt.ylabel(\"loss\")\n",
    "    \n",
    "    return weight_vector,intercept"
   ]
  },
  {
   "cell_type": "code",
   "execution_count": 37,
   "id": "5dceadfa-7a0b-4839-998f-9aa30549910c",
   "metadata": {},
   "outputs": [
    {
     "name": "stdout",
     "output_type": "stream",
     "text": [
      "weight: [45329.71051764 56326.12235296]\n",
      "bias: 367314.7790267857\n"
     ]
    },
    {
     "data": {
      "image/png": "[encoded data removed]",
      "text/plain": [
       "<Figure size 640x480 with 1 Axes>"
      ]
     },
     "metadata": {},
     "output_type": "display_data"
    }
   ],
   "source": [
    "w,b=gradient_descent(X_transform,Y)\n",
    "\n",
    "print(\"weight:\",w)\n",
    "print(\"bias:\",b)"
   ]
  },
  {
   "cell_type": "code",
   "execution_count": null,
   "id": "454f9209-9089-4629-9817-fe361a8b09fd",
   "metadata": {},
   "outputs": [],
   "source": []
  }
 ],
 "metadata": {
  "kernelspec": {
   "display_name": "Python 3 (ipykernel)",
   "language": "python",
   "name": "python3"
  },
  "language_info": {
   "codemirror_mode": {
    "name": "ipython",
    "version": 3
   },
   "file_extension": ".py",
   "mimetype": "text/x-python",
   "name": "python",
   "nbconvert_exporter": "python",
   "pygments_lexer": "ipython3",
   "version": "3.11.2"
  }
 },
 "nbformat": 4,
 "nbformat_minor": 5
}
